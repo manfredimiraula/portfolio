{
 "cells": [
  {
   "cell_type": "code",
   "execution_count": 1,
   "id": "lightweight-calculator",
   "metadata": {},
   "outputs": [],
   "source": [
    "# # map visualization\n",
    "# import openrouteservice\n",
    "# import folium\n",
    "# from keplergl import KeplerGl\n",
    "\n",
    "# # using this learning content: https://realpython.com/beautiful-soup-web-scraper-python/\n",
    "# # using this learning content: https://learningactors.com/how-to-scrape-multiple-pages-of-a-website-using-a-python-web-scraper/\n",
    "\n",
    "# # HTML scrape\n",
    "# import requests \n",
    "# from bs4 import BeautifulSoup\n",
    "# from time import sleep\n",
    "# from random import randint\n",
    "\n",
    "# # ETL\n",
    "# import pandas as pd\n",
    "# import numpy as np\n",
    "# import re \n",
    "\n",
    "# # Postgres DB\n",
    "# from sqlalchemy import create_engine\n",
    "# import psycopg2\n",
    "\n",
    "\n",
    "\n",
    "from isochrones import plot_isochrones\n",
    "from immobiliare_scraper import immobiliare_scraper, immobiliare_html_to_df, initialize_db_extract_immobiliare, insert_immobiliare\n"
   ]
  },
  {
   "cell_type": "markdown",
   "id": "traditional-shelf",
   "metadata": {},
   "source": [
    "# 1 find sweet spot area based on 30min bike ride half way\n"
   ]
  },
  {
   "cell_type": "code",
   "execution_count": 2,
   "id": "numerous-muslim",
   "metadata": {},
   "outputs": [
    {
     "data": {
      "text/html": [
       "<div style=\"width:100%;\"><div style=\"position:relative;width:100%;height:0;padding-bottom:60%;\"><span style=\"color:#565656\">Make this Notebook Trusted to load map: File -> Trust Notebook</span><iframe src=\"about:blank\" style=\"position:absolute;width:100%;height:100%;left:0;top:0;border:none !important;\" data-html=%3C%21DOCTYPE%20html%3E%0A%3Chead%3E%20%20%20%20%0A%20%20%20%20%3Cmeta%20http-equiv%3D%22content-type%22%20content%3D%22text/html%3B%20charset%3DUTF-8%22%20/%3E%0A%20%20%20%20%0A%20%20%20%20%20%20%20%20%3Cscript%3E%0A%20%20%20%20%20%20%20%20%20%20%20%20L_NO_TOUCH%20%3D%20false%3B%0A%20%20%20%20%20%20%20%20%20%20%20%20L_DISABLE_3D%20%3D%20false%3B%0A%20%20%20%20%20%20%20%20%3C/script%3E%0A%20%20%20%20%0A%20%20%20%20%3Cstyle%3Ehtml%2C%20body%20%7Bwidth%3A%20100%25%3Bheight%3A%20100%25%3Bmargin%3A%200%3Bpadding%3A%200%3B%7D%3C/style%3E%0A%20%20%20%20%3Cstyle%3E%23map%20%7Bposition%3Aabsolute%3Btop%3A0%3Bbottom%3A0%3Bright%3A0%3Bleft%3A0%3B%7D%3C/style%3E%0A%20%20%20%20%3Cscript%20src%3D%22https%3A//cdn.jsdelivr.net/npm/leaflet%401.6.0/dist/leaflet.js%22%3E%3C/script%3E%0A%20%20%20%20%3Cscript%20src%3D%22https%3A//code.jquery.com/jquery-1.12.4.min.js%22%3E%3C/script%3E%0A%20%20%20%20%3Cscript%20src%3D%22https%3A//maxcdn.bootstrapcdn.com/bootstrap/3.2.0/js/bootstrap.min.js%22%3E%3C/script%3E%0A%20%20%20%20%3Cscript%20src%3D%22https%3A//cdnjs.cloudflare.com/ajax/libs/Leaflet.awesome-markers/2.0.2/leaflet.awesome-markers.js%22%3E%3C/script%3E%0A%20%20%20%20%3Clink%20rel%3D%22stylesheet%22%20href%3D%22https%3A//cdn.jsdelivr.net/npm/leaflet%401.6.0/dist/leaflet.css%22/%3E%0A%20%20%20%20%3Clink%20rel%3D%22stylesheet%22%20href%3D%22https%3A//maxcdn.bootstrapcdn.com/bootstrap/3.2.0/css/bootstrap.min.css%22/%3E%0A%20%20%20%20%3Clink%20rel%3D%22stylesheet%22%20href%3D%22https%3A//maxcdn.bootstrapcdn.com/bootstrap/3.2.0/css/bootstrap-theme.min.css%22/%3E%0A%20%20%20%20%3Clink%20rel%3D%22stylesheet%22%20href%3D%22https%3A//maxcdn.bootstrapcdn.com/font-awesome/4.6.3/css/font-awesome.min.css%22/%3E%0A%20%20%20%20%3Clink%20rel%3D%22stylesheet%22%20href%3D%22https%3A//cdnjs.cloudflare.com/ajax/libs/Leaflet.awesome-markers/2.0.2/leaflet.awesome-markers.css%22/%3E%0A%20%20%20%20%3Clink%20rel%3D%22stylesheet%22%20href%3D%22https%3A//cdn.jsdelivr.net/gh/python-visualization/folium/folium/templates/leaflet.awesome.rotate.min.css%22/%3E%0A%20%20%20%20%0A%20%20%20%20%20%20%20%20%20%20%20%20%3Cmeta%20name%3D%22viewport%22%20content%3D%22width%3Ddevice-width%2C%0A%20%20%20%20%20%20%20%20%20%20%20%20%20%20%20%20initial-scale%3D1.0%2C%20maximum-scale%3D1.0%2C%20user-scalable%3Dno%22%20/%3E%0A%20%20%20%20%20%20%20%20%20%20%20%20%3Cstyle%3E%0A%20%20%20%20%20%20%20%20%20%20%20%20%20%20%20%20%23map_c4a4e8f1c2c74098913d340673193ad7%20%7B%0A%20%20%20%20%20%20%20%20%20%20%20%20%20%20%20%20%20%20%20%20position%3A%20relative%3B%0A%20%20%20%20%20%20%20%20%20%20%20%20%20%20%20%20%20%20%20%20width%3A%20100.0%25%3B%0A%20%20%20%20%20%20%20%20%20%20%20%20%20%20%20%20%20%20%20%20height%3A%20100.0%25%3B%0A%20%20%20%20%20%20%20%20%20%20%20%20%20%20%20%20%20%20%20%20left%3A%200.0%25%3B%0A%20%20%20%20%20%20%20%20%20%20%20%20%20%20%20%20%20%20%20%20top%3A%200.0%25%3B%0A%20%20%20%20%20%20%20%20%20%20%20%20%20%20%20%20%7D%0A%20%20%20%20%20%20%20%20%20%20%20%20%3C/style%3E%0A%20%20%20%20%20%20%20%20%0A%3C/head%3E%0A%3Cbody%3E%20%20%20%20%0A%20%20%20%20%0A%20%20%20%20%20%20%20%20%20%20%20%20%3Cdiv%20class%3D%22folium-map%22%20id%3D%22map_c4a4e8f1c2c74098913d340673193ad7%22%20%3E%3C/div%3E%0A%20%20%20%20%20%20%20%20%0A%3C/body%3E%0A%3Cscript%3E%20%20%20%20%0A%20%20%20%20%0A%20%20%20%20%20%20%20%20%20%20%20%20var%20map_c4a4e8f1c2c74098913d340673193ad7%20%3D%20L.map%28%0A%20%20%20%20%20%20%20%20%20%20%20%20%20%20%20%20%22map_c4a4e8f1c2c74098913d340673193ad7%22%2C%0A%20%20%20%20%20%20%20%20%20%20%20%20%20%20%20%20%7B%0A%20%20%20%20%20%20%20%20%20%20%20%20%20%20%20%20%20%20%20%20center%3A%20%5B44.4942094%2C%2011.3445425%5D%2C%0A%20%20%20%20%20%20%20%20%20%20%20%20%20%20%20%20%20%20%20%20crs%3A%20L.CRS.EPSG3857%2C%0A%20%20%20%20%20%20%20%20%20%20%20%20%20%20%20%20%20%20%20%20zoom%3A%2012%2C%0A%20%20%20%20%20%20%20%20%20%20%20%20%20%20%20%20%20%20%20%20zoomControl%3A%20true%2C%0A%20%20%20%20%20%20%20%20%20%20%20%20%20%20%20%20%20%20%20%20preferCanvas%3A%20false%2C%0A%20%20%20%20%20%20%20%20%20%20%20%20%20%20%20%20%7D%0A%20%20%20%20%20%20%20%20%20%20%20%20%29%3B%0A%0A%20%20%20%20%20%20%20%20%20%20%20%20%0A%0A%20%20%20%20%20%20%20%20%0A%20%20%20%20%0A%20%20%20%20%20%20%20%20%20%20%20%20var%20tile_layer_f5a5e3f226e24fd681e37c6246438a96%20%3D%20L.tileLayer%28%0A%20%20%20%20%20%20%20%20%20%20%20%20%20%20%20%20%22https%3A//stamen-tiles-%7Bs%7D.a.ssl.fastly.net/toner/%7Bz%7D/%7Bx%7D/%7By%7D.png%22%2C%0A%20%20%20%20%20%20%20%20%20%20%20%20%20%20%20%20%7B%22attribution%22%3A%20%22Map%20tiles%20by%20%5Cu003ca%20href%3D%5C%22http%3A//stamen.com%5C%22%5Cu003eStamen%20Design%5Cu003c/a%5Cu003e%2C%20under%20%5Cu003ca%20href%3D%5C%22http%3A//creativecommons.org/licenses/by/3.0%5C%22%5Cu003eCC%20BY%203.0%5Cu003c/a%5Cu003e.%20Data%20by%20%5Cu0026copy%3B%20%5Cu003ca%20href%3D%5C%22http%3A//openstreetmap.org%5C%22%5Cu003eOpenStreetMap%5Cu003c/a%5Cu003e%2C%20under%20%5Cu003ca%20href%3D%5C%22http%3A//www.openstreetmap.org/copyright%5C%22%5Cu003eODbL%5Cu003c/a%5Cu003e.%22%2C%20%22detectRetina%22%3A%20false%2C%20%22maxNativeZoom%22%3A%2018%2C%20%22maxZoom%22%3A%2018%2C%20%22minZoom%22%3A%200%2C%20%22noWrap%22%3A%20false%2C%20%22opacity%22%3A%201%2C%20%22subdomains%22%3A%20%22abc%22%2C%20%22tms%22%3A%20false%7D%0A%20%20%20%20%20%20%20%20%20%20%20%20%29.addTo%28map_c4a4e8f1c2c74098913d340673193ad7%29%3B%0A%20%20%20%20%20%20%20%20%0A%20%20%20%20%0A%0A%20%20%20%20%20%20%20%20function%20geo_json_f3ee3a60f5d44a35b0847c60c229023e_onEachFeature%28feature%2C%20layer%29%20%7B%0A%20%20%20%20%20%20%20%20%20%20%20%20layer.on%28%7B%0A%20%20%20%20%20%20%20%20%20%20%20%20%7D%29%3B%0A%20%20%20%20%20%20%20%20%7D%3B%0A%20%20%20%20%20%20%20%20var%20geo_json_f3ee3a60f5d44a35b0847c60c229023e%20%3D%20L.geoJson%28null%2C%20%7B%0A%20%20%20%20%20%20%20%20%20%20%20%20%20%20%20%20onEachFeature%3A%20geo_json_f3ee3a60f5d44a35b0847c60c229023e_onEachFeature%2C%0A%20%20%20%20%20%20%20%20%20%20%20%20%0A%20%20%20%20%20%20%20%20%7D%29%3B%0A%0A%20%20%20%20%20%20%20%20function%20geo_json_f3ee3a60f5d44a35b0847c60c229023e_add%20%28data%29%20%7B%0A%20%20%20%20%20%20%20%20%20%20%20%20geo_json_f3ee3a60f5d44a35b0847c60c229023e%0A%20%20%20%20%20%20%20%20%20%20%20%20%20%20%20%20.addData%28data%29%0A%20%20%20%20%20%20%20%20%20%20%20%20%20%20%20%20.addTo%28map_c4a4e8f1c2c74098913d340673193ad7%29%3B%0A%20%20%20%20%20%20%20%20%7D%0A%20%20%20%20%20%20%20%20%20%20%20%20geo_json_f3ee3a60f5d44a35b0847c60c229023e_add%28%7B%22bbox%22%3A%20%5B11.170529%2C%2044.415061%2C%2011.352188%2C%2044.543171%5D%2C%20%22features%22%3A%20%5B%7B%22geometry%22%3A%20%7B%22coordinates%22%3A%20%5B%5B%5B11.170529%2C%2044.506108%5D%2C%20%5B11.170563%2C%2044.505932%5D%2C%20%5B11.172707%2C%2044.495133%5D%2C%20%5B11.174215%2C%2044.491864%5D%2C%20%5B11.181009%2C%2044.486947%5D%2C%20%5B11.181516%2C%2044.487%5D%2C%20%5B11.18472%2C%2044.486499%5D%2C%20%5B11.18254%2C%2044.474703%5D%2C%20%5B11.180343%2C%2044.473483%5D%2C%20%5B11.180208%2C%2044.465945%5D%2C%20%5B11.181104%2C%2044.462458%5D%2C%20%5B11.187519%2C%2044.456946%5D%2C%20%5B11.193642%2C%2044.449105%5D%2C%20%5B11.193654%2C%2044.449101%5D%2C%20%5B11.196856%2C%2044.449705%5D%2C%20%5B11.199992%2C%2044.4519%5D%2C%20%5B11.200441%2C%2044.452365%5D%2C%20%5B11.20407%2C%2044.454334%5D%2C%20%5B11.205645%2C%2044.454881%5D%2C%20%5B11.211622%2C%2044.444991%5D%2C%20%5B11.213151%2C%2044.441732%5D%2C%20%5B11.217701%2C%2044.441541%5D%2C%20%5B11.226851%2C%2044.438823%5D%2C%20%5B11.236133%2C%2044.440637%5D%2C%20%5B11.24427%2C%2044.438301%5D%2C%20%5B11.247467%2C%2044.433687%5D%2C%20%5B11.253617%2C%2044.428339%5D%2C%20%5B11.254791%2C%2044.421812%5D%2C%20%5B11.258152%2C%2044.416314%5D%2C%20%5B11.2588%2C%2044.415157%5D%2C%20%5B11.259078%2C%2044.415061%5D%2C%20%5B11.263815%2C%2044.416098%5D%2C%20%5B11.271103%2C%2044.416937%5D%2C%20%5B11.277167%2C%2044.419662%5D%2C%20%5B11.27888%2C%2044.422028%5D%2C%20%5B11.279236%2C%2044.426183%5D%2C%20%5B11.277581%2C%2044.431078%5D%2C%20%5B11.273088%2C%2044.439679%5D%2C%20%5B11.27945%2C%2044.443722%5D%2C%20%5B11.284705%2C%2044.441946%5D%2C%20%5B11.294821%2C%2044.446722%5D%2C%20%5B11.298188%2C%2044.44545%5D%2C%20%5B11.29833%2C%2044.445824%5D%2C%20%5B11.296498%2C%2044.448825%5D%2C%20%5B11.304575%2C%2044.456598%5D%2C%20%5B11.308486%2C%2044.457089%5D%2C%20%5B11.310398%2C%2044.458419%5D%2C%20%5B11.313837%2C%2044.466208%5D%2C%20%5B11.315144%2C%2044.469956%5D%2C%20%5B11.323064%2C%2044.477386%5D%2C%20%5B11.323437%2C%2044.477556%5D%2C%20%5B11.33394%2C%2044.478537%5D%2C%20%5B11.335647%2C%2044.476875%5D%2C%20%5B11.337549%2C%2044.4772%5D%2C%20%5B11.34412%2C%2044.478535%5D%2C%20%5B11.344305%2C%2044.478576%5D%2C%20%5B11.345583%2C%2044.479123%5D%2C%20%5B11.351581%2C%2044.482764%5D%2C%20%5B11.351854%2C%2044.483192%5D%2C%20%5B11.351951%2C%2044.483409%5D%2C%20%5B11.352171%2C%2044.486673%5D%2C%20%5B11.351877%2C%2044.494064%5D%2C%20%5B11.352188%2C%2044.502062%5D%2C%20%5B11.351969%2C%2044.503315%5D%2C%20%5B11.35145%2C%2044.504658%5D%2C%20%5B11.350604%2C%2044.506332%5D%2C%20%5B11.347735%2C%2044.509809%5D%2C%20%5B11.347696%2C%2044.509815%5D%2C%20%5B11.344944%2C%2044.509574%5D%2C%20%5B11.335564%2C%2044.516324%5D%2C%20%5B11.332802%2C%2044.518317%5D%2C%20%5B11.332279%2C%2044.518722%5D%2C%20%5B11.332038%2C%2044.518812%5D%2C%20%5B11.331354%2C%2044.518931%5D%2C%20%5B11.330896%2C%2044.518965%5D%2C%20%5B11.330888%2C%2044.518963%5D%2C%20%5B11.330882%2C%2044.518961%5D%2C%20%5B11.330875%2C%2044.518959%5D%2C%20%5B11.32522%2C%2044.518445%5D%2C%20%5B11.326329%2C%2044.530186%5D%2C%20%5B11.325764%2C%2044.533742%5D%2C%20%5B11.324629%2C%2044.533561%5D%2C%20%5B11.320609%2C%2044.532488%5D%2C%20%5B11.316522%2C%2044.530679%5D%2C%20%5B11.313324%2C%2044.529156%5D%2C%20%5B11.307685%2C%2044.538906%5D%2C%20%5B11.30768%2C%2044.539083%5D%2C%20%5B11.305598%2C%2044.540146%5D%2C%20%5B11.305185%2C%2044.540165%5D%2C%20%5B11.300052%2C%2044.537498%5D%2C%20%5B11.299911%2C%2044.537047%5D%2C%20%5B11.298815%2C%2044.534248%5D%2C%20%5B11.293394%2C%2044.527392%5D%2C%20%5B11.286298%2C%2044.532447%5D%2C%20%5B11.277465%2C%2044.534528%5D%2C%20%5B11.273273%2C%2044.539948%5D%2C%20%5B11.271313%2C%2044.542512%5D%2C%20%5B11.268897%2C%2044.542917%5D%2C%20%5B11.268811%2C%2044.542929%5D%2C%20%5B11.262616%2C%2044.543171%5D%2C%20%5B11.257564%2C%2044.540641%5D%2C%20%5B11.252863%2C%2044.53821%5D%2C%20%5B11.251811%2C%2044.535796%5D%2C%20%5B11.240113%2C%2044.534956%5D%2C%20%5B11.229741%2C%2044.538259%5D%2C%20%5B11.229167%2C%2044.538126%5D%2C%20%5B11.227234%2C%2044.536032%5D%2C%20%5B11.225815%2C%2044.532723%5D%2C%20%5B11.216241%2C%2044.52814%5D%2C%20%5B11.216198%2C%2044.528136%5D%2C%20%5B11.214638%2C%2044.52662%5D%2C%20%5B11.214637%2C%2044.526612%5D%2C%20%5B11.212955%2C%2044.518691%5D%2C%20%5B11.202438%2C%2044.516401%5D%2C%20%5B11.199213%2C%2044.517049%5D%2C%20%5B11.198626%2C%2044.517065%5D%2C%20%5B11.188845%2C%2044.513912%5D%2C%20%5B11.186878%2C%2044.513144%5D%2C%20%5B11.184413%2C%2044.512133%5D%2C%20%5B11.182683%2C%2044.51097%5D%2C%20%5B11.171908%2C%2044.509485%5D%2C%20%5B11.171805%2C%2044.509472%5D%2C%20%5B11.170548%2C%2044.508788%5D%2C%20%5B11.170529%2C%2044.506108%5D%5D%5D%2C%20%22type%22%3A%20%22Polygon%22%7D%2C%20%22properties%22%3A%20%7B%22center%22%3A%20%5B11.26005972758069%2C%2044.48500654440388%5D%2C%20%22group_index%22%3A%200%2C%20%22value%22%3A%201800.0%7D%2C%20%22type%22%3A%20%22Feature%22%7D%5D%2C%20%22metadata%22%3A%20%7B%22attribution%22%3A%20%22openrouteservice.org%2C%20OpenStreetMap%20contributors%22%2C%20%22engine%22%3A%20%7B%22build_date%22%3A%20%222021-03-02T18%3A34%3A49Z%22%2C%20%22graph_date%22%3A%20%222021-03-21T04%3A18%3A02Z%22%2C%20%22version%22%3A%20%226.3.6%22%7D%2C%20%22query%22%3A%20%7B%22interval%22%3A%201800.0%2C%20%22locations%22%3A%20%5B%5B11.2607037%2C%2044.4841799%5D%5D%2C%20%22range%22%3A%20%5B1800.0%5D%2C%20%22range_type%22%3A%20%22time%22%7D%2C%20%22service%22%3A%20%22isochrones%22%2C%20%22timestamp%22%3A%201616745610674%7D%2C%20%22type%22%3A%20%22FeatureCollection%22%7D%29%3B%0A%0A%20%20%20%20%20%20%20%20%0A%20%20%20%20%0A%20%20%20%20%20%20%20%20%20%20%20%20var%20marker_dd9f09ce87a34a06b460e5be551d6e34%20%3D%20L.marker%28%0A%20%20%20%20%20%20%20%20%20%20%20%20%20%20%20%20%5B44.4841799%2C%2011.2607037%5D%2C%0A%20%20%20%20%20%20%20%20%20%20%20%20%20%20%20%20%7B%7D%0A%20%20%20%20%20%20%20%20%20%20%20%20%29.addTo%28map_c4a4e8f1c2c74098913d340673193ad7%29%3B%0A%20%20%20%20%20%20%20%20%0A%20%20%20%20%0A%20%20%20%20%20%20%20%20%20%20%20%20var%20icon_88f58c14cf4543e4b2bcb98500be819b%20%3D%20L.AwesomeMarkers.icon%28%0A%20%20%20%20%20%20%20%20%20%20%20%20%20%20%20%20%7B%22extraClasses%22%3A%20%22fa-rotate-0%22%2C%20%22icon%22%3A%20%22map-marker%22%2C%20%22iconColor%22%3A%20%22%23cc0000%22%2C%20%22markerColor%22%3A%20%22lightgray%22%2C%20%22prefix%22%3A%20%22fa%22%7D%0A%20%20%20%20%20%20%20%20%20%20%20%20%29%3B%0A%20%20%20%20%20%20%20%20%20%20%20%20marker_dd9f09ce87a34a06b460e5be551d6e34.setIcon%28icon_88f58c14cf4543e4b2bcb98500be819b%29%3B%0A%20%20%20%20%20%20%20%20%0A%20%20%20%20%0A%20%20%20%20%20%20%20%20var%20popup_b069ccae9d984786a03e8d2723a3e098%20%3D%20L.popup%28%7B%22maxWidth%22%3A%20%22100%25%22%7D%29%3B%0A%0A%20%20%20%20%20%20%20%20%0A%20%20%20%20%20%20%20%20%20%20%20%20var%20html_09d3093b2a974c59b8bc80e0c2621d28%20%3D%20%24%28%60%3Cdiv%20id%3D%22html_09d3093b2a974c59b8bc80e0c2621d28%22%20style%3D%22width%3A%20100.0%25%3B%20height%3A%20100.0%25%3B%22%3Efirst%3C/div%3E%60%29%5B0%5D%3B%0A%20%20%20%20%20%20%20%20%20%20%20%20popup_b069ccae9d984786a03e8d2723a3e098.setContent%28html_09d3093b2a974c59b8bc80e0c2621d28%29%3B%0A%20%20%20%20%20%20%20%20%0A%0A%20%20%20%20%20%20%20%20marker_dd9f09ce87a34a06b460e5be551d6e34.bindPopup%28popup_b069ccae9d984786a03e8d2723a3e098%29%0A%20%20%20%20%20%20%20%20%3B%0A%0A%20%20%20%20%20%20%20%20%0A%20%20%20%20%0A%20%20%20%20%0A%0A%20%20%20%20%20%20%20%20function%20geo_json_10a36436fbd94702b324ff93349bb425_onEachFeature%28feature%2C%20layer%29%20%7B%0A%20%20%20%20%20%20%20%20%20%20%20%20layer.on%28%7B%0A%20%20%20%20%20%20%20%20%20%20%20%20%7D%29%3B%0A%20%20%20%20%20%20%20%20%7D%3B%0A%20%20%20%20%20%20%20%20var%20geo_json_10a36436fbd94702b324ff93349bb425%20%3D%20L.geoJson%28null%2C%20%7B%0A%20%20%20%20%20%20%20%20%20%20%20%20%20%20%20%20onEachFeature%3A%20geo_json_10a36436fbd94702b324ff93349bb425_onEachFeature%2C%0A%20%20%20%20%20%20%20%20%20%20%20%20%0A%20%20%20%20%20%20%20%20%7D%29%3B%0A%0A%20%20%20%20%20%20%20%20function%20geo_json_10a36436fbd94702b324ff93349bb425_add%20%28data%29%20%7B%0A%20%20%20%20%20%20%20%20%20%20%20%20geo_json_10a36436fbd94702b324ff93349bb425%0A%20%20%20%20%20%20%20%20%20%20%20%20%20%20%20%20.addData%28data%29%0A%20%20%20%20%20%20%20%20%20%20%20%20%20%20%20%20.addTo%28map_c4a4e8f1c2c74098913d340673193ad7%29%3B%0A%20%20%20%20%20%20%20%20%7D%0A%20%20%20%20%20%20%20%20%20%20%20%20geo_json_10a36436fbd94702b324ff93349bb425_add%28%7B%22bbox%22%3A%20%5B11.250112%2C%2044.428237%2C%2011.4466%2C%2044.561977%5D%2C%20%22features%22%3A%20%5B%7B%22geometry%22%3A%20%7B%22coordinates%22%3A%20%5B%5B%5B11.250112%2C%2044.524185%5D%2C%20%5B11.251538%2C%2044.512427%5D%2C%20%5B11.251924%2C%2044.507268%5D%2C%20%5B11.250426%2C%2044.498029%5D%2C%20%5B11.251942%2C%2044.495358%5D%2C%20%5B11.257139%2C%2044.489463%5D%2C%20%5B11.253276%2C%2044.483389%5D%2C%20%5B11.253134%2C%2044.483314%5D%2C%20%5B11.252432%2C%2044.482394%5D%2C%20%5B11.252403%2C%2044.482311%5D%2C%20%5B11.252966%2C%2044.481112%5D%2C%20%5B11.254375%2C%2044.478429%5D%2C%20%5B11.255395%2C%2044.477836%5D%2C%20%5B11.257144%2C%2044.476701%5D%2C%20%5B11.26531%2C%2044.472032%5D%2C%20%5B11.265998%2C%2044.464192%5D%2C%20%5B11.268199%2C%2044.462132%5D%2C%20%5B11.268795%2C%2044.461782%5D%2C%20%5B11.276788%2C%2044.46177%5D%2C%20%5B11.283433%2C%2044.458987%5D%2C%20%5B11.286942%2C%2044.458181%5D%2C%20%5B11.294394%2C%2044.449003%5D%2C%20%5B11.294868%2C%2044.445131%5D%2C%20%5B11.29488%2C%2044.445103%5D%2C%20%5B11.297201%2C%2044.443091%5D%2C%20%5B11.300615%2C%2044.442112%5D%2C%20%5B11.306506%2C%2044.439311%5D%2C%20%5B11.311397%2C%2044.435033%5D%2C%20%5B11.314015%2C%2044.432563%5D%2C%20%5B11.324007%2C%2044.436332%5D%2C%20%5B11.326244%2C%2044.436113%5D%2C%20%5B11.327355%2C%2044.436145%5D%2C%20%5B11.337748%2C%2044.439843%5D%2C%20%5B11.344158%2C%2044.437833%5D%2C%20%5B11.348613%2C%2044.431045%5D%2C%20%5B11.349815%2C%2044.429287%5D%2C%20%5B11.349897%2C%2044.429186%5D%2C%20%5B11.351044%2C%2044.428237%5D%2C%20%5B11.351101%2C%2044.428238%5D%2C%20%5B11.362667%2C%2044.431264%5D%2C%20%5B11.362781%2C%2044.431345%5D%2C%20%5B11.37069%2C%2044.43696%5D%2C%20%5B11.374269%2C%2044.436572%5D%2C%20%5B11.384561%2C%2044.437513%5D%2C%20%5B11.387309%2C%2044.435188%5D%2C%20%5B11.393482%2C%2044.43947%5D%2C%20%5B11.39392%2C%2044.43971%5D%2C%20%5B11.405095%2C%2044.441903%5D%2C%20%5B11.408492%2C%2044.440713%5D%2C%20%5B11.416553%2C%2044.445058%5D%2C%20%5B11.420157%2C%2044.446008%5D%2C%20%5B11.426045%2C%2044.448808%5D%2C%20%5B11.432981%2C%2044.454113%5D%2C%20%5B11.438373%2C%2044.455196%5D%2C%20%5B11.44154%2C%2044.455768%5D%2C%20%5B11.442665%2C%2044.459188%5D%2C%20%5B11.438646%2C%2044.46593%5D%2C%20%5B11.438287%2C%2044.469023%5D%2C%20%5B11.442836%2C%2044.478509%5D%2C%20%5B11.443052%2C%2044.482103%5D%2C%20%5B11.444883%2C%2044.491699%5D%2C%20%5B11.445832%2C%2044.495172%5D%2C%20%5B11.4466%2C%2044.501901%5D%2C%20%5B11.445826%2C%2044.504367%5D%2C%20%5B11.440628%2C%2044.507302%5D%2C%20%5B11.438574%2C%2044.508887%5D%2C%20%5B11.433221%2C%2044.514578%5D%2C%20%5B11.43169%2C%2044.522572%5D%2C%20%5B11.431121%2C%2044.529714%5D%2C%20%5B11.43035%2C%2044.532912%5D%2C%20%5B11.428197%2C%2044.535798%5D%2C%20%5B11.424154%2C%2044.53644%5D%2C%20%5B11.41507%2C%2044.538007%5D%2C%20%5B11.414839%2C%2044.53808%5D%2C%20%5B11.411094%2C%2044.537272%5D%2C%20%5B11.40341%2C%2044.538529%5D%2C%20%5B11.398735%2C%2044.547103%5D%2C%20%5B11.397812%2C%2044.550443%5D%2C%20%5B11.397086%2C%2044.551982%5D%2C%20%5B11.394368%2C%2044.557874%5D%2C%20%5B11.389704%2C%2044.561908%5D%2C%20%5B11.389232%2C%2044.561401%5D%2C%20%5B11.379613%2C%2044.557982%5D%2C%20%5B11.376322%2C%2044.561235%5D%2C%20%5B11.375394%2C%2044.561491%5D%2C%20%5B11.373789%2C%2044.561955%5D%2C%20%5B11.373713%2C%2044.561977%5D%2C%20%5B11.373424%2C%2044.561933%5D%2C%20%5B11.368656%2C%2044.560448%5D%2C%20%5B11.365168%2C%2044.559659%5D%2C%20%5B11.356579%2C%2044.559947%5D%2C%20%5B11.355798%2C%2044.560018%5D%2C%20%5B11.353789%2C%2044.560136%5D%2C%20%5B11.346278%2C%2044.558988%5D%2C%20%5B11.342717%2C%2044.55846%5D%2C%20%5B11.336624%2C%2044.5563%5D%2C%20%5B11.329726%2C%2044.556401%5D%2C%20%5B11.320154%2C%2044.559862%5D%2C%20%5B11.319176%2C%2044.560192%5D%2C%20%5B11.319033%2C%2044.560227%5D%2C%20%5B11.317588%2C%2044.560573%5D%2C%20%5B11.31669%2C%2044.559874%5D%2C%20%5B11.313714%2C%2044.557419%5D%2C%20%5B11.31423%2C%2044.556606%5D%2C%20%5B11.314748%2C%2044.55605%5D%2C%20%5B11.318823%2C%2044.549711%5D%2C%20%5B11.318292%2C%2044.544343%5D%2C%20%5B11.316441%2C%2044.540939%5D%2C%20%5B11.306488%2C%2044.535965%5D%2C%20%5B11.305317%2C%2044.536366%5D%2C%20%5B11.304432%2C%2044.53604%5D%2C%20%5B11.303062%2C%2044.534859%5D%2C%20%5B11.294273%2C%2044.528706%5D%2C%20%5B11.291514%2C%2044.530734%5D%2C%20%5B11.286658%2C%2044.534122%5D%2C%20%5B11.28616%2C%2044.534273%5D%2C%20%5B11.278256%2C%2044.535785%5D%2C%20%5B11.268567%2C%2044.535494%5D%2C%20%5B11.268229%2C%2044.535456%5D%2C%20%5B11.268088%2C%2044.535428%5D%2C%20%5B11.259875%2C%2044.529797%5D%2C%20%5B11.254861%2C%2044.528386%5D%2C%20%5B11.250917%2C%2044.527664%5D%2C%20%5B11.250844%2C%2044.527527%5D%2C%20%5B11.250112%2C%2044.524185%5D%5D%5D%2C%20%22type%22%3A%20%22Polygon%22%7D%2C%20%22properties%22%3A%20%7B%22center%22%3A%20%5B11.344598994634804%2C%2044.4941999912709%5D%2C%20%22group_index%22%3A%200%2C%20%22value%22%3A%201800.0%7D%2C%20%22type%22%3A%20%22Feature%22%7D%5D%2C%20%22metadata%22%3A%20%7B%22attribution%22%3A%20%22openrouteservice.org%2C%20OpenStreetMap%20contributors%22%2C%20%22engine%22%3A%20%7B%22build_date%22%3A%20%222021-03-02T18%3A34%3A49Z%22%2C%20%22graph_date%22%3A%20%222021-03-21T04%3A18%3A02Z%22%2C%20%22version%22%3A%20%226.3.6%22%7D%2C%20%22query%22%3A%20%7B%22interval%22%3A%201800.0%2C%20%22locations%22%3A%20%5B%5B11.3445425%2C%2044.4942094%5D%5D%2C%20%22range%22%3A%20%5B1800.0%5D%2C%20%22range_type%22%3A%20%22time%22%7D%2C%20%22service%22%3A%20%22isochrones%22%2C%20%22timestamp%22%3A%201616745610864%7D%2C%20%22type%22%3A%20%22FeatureCollection%22%7D%29%3B%0A%0A%20%20%20%20%20%20%20%20%0A%20%20%20%20%0A%20%20%20%20%20%20%20%20%20%20%20%20var%20marker_b5de5a5bfb7347bea2961fb89f890a31%20%3D%20L.marker%28%0A%20%20%20%20%20%20%20%20%20%20%20%20%20%20%20%20%5B44.4942094%2C%2011.3445425%5D%2C%0A%20%20%20%20%20%20%20%20%20%20%20%20%20%20%20%20%7B%7D%0A%20%20%20%20%20%20%20%20%20%20%20%20%29.addTo%28map_c4a4e8f1c2c74098913d340673193ad7%29%3B%0A%20%20%20%20%20%20%20%20%0A%20%20%20%20%0A%20%20%20%20%20%20%20%20%20%20%20%20var%20icon_53be463341b5493eb680cb4d85a00257%20%3D%20L.AwesomeMarkers.icon%28%0A%20%20%20%20%20%20%20%20%20%20%20%20%20%20%20%20%7B%22extraClasses%22%3A%20%22fa-rotate-0%22%2C%20%22icon%22%3A%20%22map-marker%22%2C%20%22iconColor%22%3A%20%22%23cc0000%22%2C%20%22markerColor%22%3A%20%22lightgray%22%2C%20%22prefix%22%3A%20%22fa%22%7D%0A%20%20%20%20%20%20%20%20%20%20%20%20%29%3B%0A%20%20%20%20%20%20%20%20%20%20%20%20marker_b5de5a5bfb7347bea2961fb89f890a31.setIcon%28icon_53be463341b5493eb680cb4d85a00257%29%3B%0A%20%20%20%20%20%20%20%20%0A%20%20%20%20%0A%20%20%20%20%20%20%20%20var%20popup_5f1ec89b8da742cea526815f7e0da1fa%20%3D%20L.popup%28%7B%22maxWidth%22%3A%20%22100%25%22%7D%29%3B%0A%0A%20%20%20%20%20%20%20%20%0A%20%20%20%20%20%20%20%20%20%20%20%20var%20html_983dd94d1a7842b882ac51e4eab7a7fb%20%3D%20%24%28%60%3Cdiv%20id%3D%22html_983dd94d1a7842b882ac51e4eab7a7fb%22%20style%3D%22width%3A%20100.0%25%3B%20height%3A%20100.0%25%3B%22%3Esecond%3C/div%3E%60%29%5B0%5D%3B%0A%20%20%20%20%20%20%20%20%20%20%20%20popup_5f1ec89b8da742cea526815f7e0da1fa.setContent%28html_983dd94d1a7842b882ac51e4eab7a7fb%29%3B%0A%20%20%20%20%20%20%20%20%0A%0A%20%20%20%20%20%20%20%20marker_b5de5a5bfb7347bea2961fb89f890a31.bindPopup%28popup_5f1ec89b8da742cea526815f7e0da1fa%29%0A%20%20%20%20%20%20%20%20%3B%0A%0A%20%20%20%20%20%20%20%20%0A%20%20%20%20%0A%3C/script%3E onload=\"this.contentDocument.open();this.contentDocument.write(    decodeURIComponent(this.getAttribute('data-html')));this.contentDocument.close();\" allowfullscreen webkitallowfullscreen mozallowfullscreen></iframe></div></div>"
      ],
      "text/plain": [
       "<folium.folium.Map at 0x7fc42ad0d550>"
      ]
     },
     "execution_count": 2,
     "metadata": {},
     "output_type": "execute_result"
    }
   ],
   "source": [
    "# define the centroids of interest\n",
    "loc_dict = {\n",
    "    'first': { #kantar\n",
    "        'location': [11.2607037, 44.4841799] #swapped lat,long -> long, lat\n",
    "    }, \n",
    "    'second': { #due torri\n",
    "        'location': [11.3445425, 44.4942094]\n",
    "    }\n",
    "}\n",
    "\n",
    "# plot isocrhones area\n",
    "bo_isochrones = plot_isochrones(11.3445425,44.4942094, 1800, loc_dict)\n",
    "\n",
    "bo_isochrones"
   ]
  },
  {
   "cell_type": "markdown",
   "id": "suffering-controversy",
   "metadata": {},
   "source": [
    "# 2. Scrape Immobiliare.it using Beautiful Soup\n",
    "\n",
    "Searching Immobiliare.it, we have the opportunity to draw a polygon directly on the map. We mimick the area found using isochrones and we obtain the url for the search result \n",
    "\n",
    "<img src = \"search-area.png\">"
   ]
  },
  {
   "cell_type": "code",
   "execution_count": 3,
   "id": "weighted-cover",
   "metadata": {},
   "outputs": [],
   "source": [
    "# this is the website after the search. the url seems to carry the lat/lon coords for the search area. this is useful\n",
    "# we could teorethically use this in the future to change the dimensions of the search area\n",
    "# there are multiple pages, so I want to scrape all the consecutive pages\n",
    "\n",
    "# get the page numbers from the bottom of the first page\n",
    "url = 'https://www.immobiliare.it/ricerca.php?idCategoria=1&idContratto=2&idNazione=IT&criterio=rilevanza&ordine=desc&pag=1&vrt=44.483219,11.351624;44.502811,11.352997;44.528822,11.341324;44.522703,11.305618;44.521234,11.287079;44.491852,11.273003;44.484994,11.263046;44.463191,11.279869;44.447997,11.297035;44.474216,11.312828;44.473726,11.331367;44.469071,11.349907;44.483219,11.351624'\n",
    "\n",
    "html_scraped = immobiliare_scraper(url)"
   ]
  },
  {
   "cell_type": "markdown",
   "id": "commercial-substitute",
   "metadata": {},
   "source": [
    "After some prototyping, I realize that some classes in the HTML are not alays standardized. This leads to import a lot of null values in the final DF. To avoid that, we implement safeguards, however, to some extent, importing null values is anavoidable if the site is not build constantly with the same rules. The beauty of scraping...."
   ]
  },
  {
   "cell_type": "code",
   "execution_count": 4,
   "id": "exotic-celebrity",
   "metadata": {},
   "outputs": [],
   "source": [
    "df = immobiliare_html_to_df(html_scraped)"
   ]
  },
  {
   "cell_type": "code",
   "execution_count": 5,
   "id": "nuclear-folder",
   "metadata": {},
   "outputs": [
    {
     "data": {
      "text/html": [
       "<div>\n",
       "<style scoped>\n",
       "    .dataframe tbody tr th:only-of-type {\n",
       "        vertical-align: middle;\n",
       "    }\n",
       "\n",
       "    .dataframe tbody tr th {\n",
       "        vertical-align: top;\n",
       "    }\n",
       "\n",
       "    .dataframe thead th {\n",
       "        text-align: right;\n",
       "    }\n",
       "</style>\n",
       "<table border=\"1\" class=\"dataframe\">\n",
       "  <thead>\n",
       "    <tr style=\"text-align: right;\">\n",
       "      <th></th>\n",
       "      <th>id</th>\n",
       "      <th>name</th>\n",
       "      <th>summary</th>\n",
       "      <th>price</th>\n",
       "      <th>sqm</th>\n",
       "      <th>rooms</th>\n",
       "      <th>baths</th>\n",
       "      <th>floors</th>\n",
       "      <th>url</th>\n",
       "    </tr>\n",
       "  </thead>\n",
       "  <tbody>\n",
       "    <tr>\n",
       "      <th>0</th>\n",
       "      <td>MansardaviaAndreaCosta5CostaBologna_1050_75_4_3</td>\n",
       "      <td>Mansarda via Andrea Costa 5, Costa, Bologna</td>\n",
       "      <td>Via Andrea Costa Ad.ze Porta Sant' Isaia a poc...</td>\n",
       "      <td>1050</td>\n",
       "      <td>75</td>\n",
       "      <td>3</td>\n",
       "      <td>1</td>\n",
       "      <td>4</td>\n",
       "      <td>https://www.immobiliare.it/annunci/60836460/</td>\n",
       "    </tr>\n",
       "    <tr>\n",
       "      <th>25</th>\n",
       "      <td>MansardaviaAndreaCosta5CostaBologna_1050_75_4_3</td>\n",
       "      <td>Mansarda via Andrea Costa 5, Costa, Bologna</td>\n",
       "      <td>Via Andrea Costa Ad.ze Porta Sant' Isaia a poc...</td>\n",
       "      <td>1050</td>\n",
       "      <td>75</td>\n",
       "      <td>3</td>\n",
       "      <td>1</td>\n",
       "      <td>4</td>\n",
       "      <td>https://www.immobiliare.it/annunci/60836460/</td>\n",
       "    </tr>\n",
       "  </tbody>\n",
       "</table>\n",
       "</div>"
      ],
      "text/plain": [
       "                                                 id  \\\n",
       "0   MansardaviaAndreaCosta5CostaBologna_1050_75_4_3   \n",
       "25  MansardaviaAndreaCosta5CostaBologna_1050_75_4_3   \n",
       "\n",
       "                                           name  \\\n",
       "0   Mansarda via Andrea Costa 5, Costa, Bologna   \n",
       "25  Mansarda via Andrea Costa 5, Costa, Bologna   \n",
       "\n",
       "                                              summary price sqm rooms baths  \\\n",
       "0   Via Andrea Costa Ad.ze Porta Sant' Isaia a poc...  1050  75     3     1   \n",
       "25  Via Andrea Costa Ad.ze Porta Sant' Isaia a poc...  1050  75     3     1   \n",
       "\n",
       "   floors                                           url  \n",
       "0       4  https://www.immobiliare.it/annunci/60836460/  \n",
       "25      4  https://www.immobiliare.it/annunci/60836460/  "
      ]
     },
     "execution_count": 5,
     "metadata": {},
     "output_type": "execute_result"
    }
   ],
   "source": [
    "df[df['id'].str.contains('MansardaviaAndreaCosta5CostaBologn')]"
   ]
  },
  {
   "cell_type": "code",
   "execution_count": 6,
   "id": "republican-nepal",
   "metadata": {},
   "outputs": [
    {
     "name": "stdout",
     "output_type": "stream",
     "text": [
      "The database is already initialized\n"
     ]
    }
   ],
   "source": [
    "        \n",
    "initialize_db_extract_immobiliare(html_scraped, \"immobiliare_rent\")"
   ]
  },
  {
   "cell_type": "code",
   "execution_count": 7,
   "id": "scenic-mainland",
   "metadata": {},
   "outputs": [
    {
     "name": "stdout",
     "output_type": "stream",
     "text": [
      "Inserted 0 rows\n"
     ]
    }
   ],
   "source": [
    "insert_immobiliare(html_scraped, 'immobiliare_rent')"
   ]
  },
  {
   "cell_type": "code",
   "execution_count": null,
   "id": "assigned-harvest",
   "metadata": {},
   "outputs": [],
   "source": []
  }
 ],
 "metadata": {
  "kernelspec": {
   "display_name": "Python 3",
   "language": "python",
   "name": "python3"
  },
  "language_info": {
   "codemirror_mode": {
    "name": "ipython",
    "version": 3
   },
   "file_extension": ".py",
   "mimetype": "text/x-python",
   "name": "python",
   "nbconvert_exporter": "python",
   "pygments_lexer": "ipython3",
   "version": "3.6.9"
  }
 },
 "nbformat": 4,
 "nbformat_minor": 5
}
