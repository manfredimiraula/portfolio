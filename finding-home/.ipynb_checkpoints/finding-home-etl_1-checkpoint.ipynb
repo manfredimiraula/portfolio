{
 "cells": [
  {
   "cell_type": "code",
   "execution_count": 1,
   "id": "sorted-student",
   "metadata": {},
   "outputs": [
    {
     "ename": "ImportError",
     "evalue": "cannot import name 'immobiliare_scraper'",
     "output_type": "error",
     "traceback": [
      "\u001b[0;31m---------------------------------------------------------------------------\u001b[0m",
      "\u001b[0;31mImportError\u001b[0m                               Traceback (most recent call last)",
      "\u001b[0;32m<ipython-input-1-8e44e4f934f8>\u001b[0m in \u001b[0;36m<module>\u001b[0;34m\u001b[0m\n\u001b[1;32m      1\u001b[0m \u001b[0;32mfrom\u001b[0m \u001b[0misochrones\u001b[0m \u001b[0;32mimport\u001b[0m \u001b[0mplot_isochrones\u001b[0m\u001b[0;34m\u001b[0m\u001b[0;34m\u001b[0m\u001b[0m\n\u001b[0;32m----> 2\u001b[0;31m \u001b[0;32mfrom\u001b[0m \u001b[0mimmobiliare\u001b[0m \u001b[0;32mimport\u001b[0m \u001b[0mimmobiliare_scraper\u001b[0m\u001b[0;34m,\u001b[0m \u001b[0mimmobiliare_html_to_df\u001b[0m\u001b[0;34m,\u001b[0m \u001b[0minitialize_db_extract_immobiliare\u001b[0m\u001b[0;34m,\u001b[0m \u001b[0minsert_immobiliare\u001b[0m\u001b[0;34m\u001b[0m\u001b[0;34m\u001b[0m\u001b[0m\n\u001b[0m",
      "\u001b[0;31mImportError\u001b[0m: cannot import name 'immobiliare_scraper'"
     ]
    }
   ],
   "source": [
    "from isochrones import plot_isochrones\n",
    "from immobiliare import immobiliare_scraper, immobiliare_html_to_df, initialize_db_extract_immobiliare, insert_immobiliare\n"
   ]
  },
  {
   "cell_type": "markdown",
   "id": "statutory-juvenile",
   "metadata": {},
   "source": [
    "# Goal of this notebook: Identify potential candidates for opportunities to buy a house in Bologna\n",
    "\n",
    "Objectives: \n",
    "1. Track market, having in mind a 2-3 years horizon\n",
    "2. Evaluate the important features and what represents a \"good price\" for the type of house needed\n",
    "\n",
    "It is implied that the house needed could vary in the course of the time horizon. However, I'll start this analysis and the ETL having in mind some simple features to limit and narrow down the potential candidates.\n",
    "\n",
    "Starting point, is the identiication of the area where to scrape potential oppportunities. We focus on Immobiliare.it as this represent a good source of apartments and houses. We are conscious that we might lose private transactions and we might need to add this later on. \n",
    "\n",
    "<img src = \"search-area-sales.png\"></img>\n",
    "\n",
    "The area of search is wide but focused on the southern part of Bologna. \n"
   ]
  },
  {
   "cell_type": "markdown",
   "id": "elder-sight",
   "metadata": {},
   "source": [
    "# 1. ETL and data extraction\n",
    "\n",
    "We split between new development site and second-hand properties. "
   ]
  },
  {
   "cell_type": "code",
   "execution_count": null,
   "id": "protected-territory",
   "metadata": {},
   "outputs": [],
   "source": [
    "# HTML scrape lib\n",
    "import requests\n",
    "from bs4 import BeautifulSoup\n",
    "from time import sleep\n",
    "from random import randint\n",
    "# ETL lib\n",
    "import re\n",
    "import numpy as np\n",
    "import pandas as pd\n",
    "# Postgres DB\n",
    "from sqlalchemy import create_engine\n",
    "import psycopg2\n",
    "\n",
    "    \n",
    "\n",
    "\n",
    "    "
   ]
  },
  {
   "cell_type": "code",
   "execution_count": null,
   "id": "saved-partner",
   "metadata": {},
   "outputs": [],
   "source": [
    "# get the page numbers from the bottom of the first page\n",
    "url_new_dev = 'https://www.immobiliare.it/ricerca_nc.php?idCategoria=6&idContratto=&idTipologia[]=&idRegione=&idProvincia=&idComune=&prezzoMinimo=&prezzoMassimo=&superficieMinima=&superficieMassima=120&bagni=&criterio=rilevanza&ordine=desc&vrt=44.489776,11.357544;44.494249,11.34675;44.495691,11.337407;44.493154,11.336368;44.491507,11.339624;44.486731,11.339628;44.490634,11.329837;44.494753,11.329349;44.498877,11.327549;44.501142,11.321222;44.501225,11.305553;44.49277,11.302361;44.484392,11.288604;44.474124,11.314179;44.474465,11.351611;44.479087,11.364605;44.489776,11.357544'\n",
    "url_second_hand = 'https://www.immobiliare.it/ricerca.php?idCategoria=1&idContratto=1&idNazione=IT&criterio=rilevanza&ordine=desc&pag=1&vrt=44.489776,11.357544;44.494249,11.34675;44.495691,11.337407;44.493154,11.336368;44.491507,11.339624;44.486731,11.339628;44.490634,11.329837;44.494753,11.329349;44.498877,11.327549;44.501142,11.321222;44.501225,11.305553;44.49277,11.302361;44.484392,11.288604;44.474124,11.314179;44.474465,11.351611;44.479087,11.364605;44.489776,11.357544'\n",
    "\n",
    "html_new_dev = immobiliare_scraper(url_new_dev)\n",
    "html_second_hand = immobiliare_scraper(url_second_hand)"
   ]
  },
  {
   "cell_type": "code",
   "execution_count": null,
   "id": "major-visit",
   "metadata": {},
   "outputs": [],
   "source": [
    "df_new_dev = immobiliare_html_to_df(html_new_dev)\n",
    "df_second_hand = immobiliare_html_to_df(html_second_hand)\n"
   ]
  },
  {
   "cell_type": "code",
   "execution_count": null,
   "id": "equal-delight",
   "metadata": {},
   "outputs": [],
   "source": [
    "        \n",
    "initialize_db_extract_immobiliare(html_new_dev, \"immobiliare_sales_new_development\")"
   ]
  },
  {
   "cell_type": "code",
   "execution_count": null,
   "id": "digital-prime",
   "metadata": {},
   "outputs": [],
   "source": [
    "\n",
    "            \n",
    "initialize_db_extract_immobiliare(html_second_hand, \"immobiliare_sales_second_hand\")"
   ]
  },
  {
   "cell_type": "code",
   "execution_count": null,
   "id": "beginning-berry",
   "metadata": {},
   "outputs": [],
   "source": [
    "insert_immobiliare(html_second_hand, \"immobiliare_sales_second_hand\")"
   ]
  },
  {
   "cell_type": "code",
   "execution_count": null,
   "id": "aboriginal-principle",
   "metadata": {},
   "outputs": [],
   "source": [
    "def initialize_db_extract_immobiliare(html_scraped, table_name):\n",
    "    \"\"\"\n",
    "    This function extract the information based on a fixed HTML structure (valid as of 30Mar2021) and import it to a Postgres DB.\n",
    "    This function is called only the first time, when the DB is not present. \n",
    "    \"\"\"\n",
    "\n",
    "    # extract info\n",
    "    tmp = immobiliare_html_to_df(html_scraped)\n",
    "    # we use sqlalchemy to load the data to Postgres\n",
    "    engine = create_engine('postgresql+psycopg2://{}:{}@{}:{}/postgres'\n",
    "                           .format('manfredi',  # username\n",
    "                                   'manfredi',  # password\n",
    "                                   'localhost',  # host\n",
    "                                   '5432'  # local port\n",
    "                                   ), echo=False\n",
    "                           )\n",
    "\n",
    "    # create a connection with the database, we use psycopg2 to create the table\n",
    "    try:\n",
    "        conn = psycopg2.connect(database=\"postgres\", user=\"manfredi\",\n",
    "                                password=\"manfredi\", host=\"localhost\", port=\"5432\")\n",
    "    except:\n",
    "        print(\"I am unable to connect to the database\")\n",
    "\n",
    "    cur = conn.cursor()\n",
    "\n",
    "    cur.execute(\n",
    "        \"select * from information_schema.tables where table_name=%s\", (table_name,))\n",
    "    check = bool(cur.rowcount)\n",
    "\n",
    "    if check == False:\n",
    "        try:\n",
    "            cur.execute(\n",
    "                \"\"\"\n",
    "                DROP TABLE if EXISTS {};\n",
    "                CREATE TABLE IF NOT EXISTS {} (\n",
    "                    id text, \n",
    "                    name text,\n",
    "                    summary text,\n",
    "                    price text,\n",
    "                    sqm text, \n",
    "                    rooms text,\n",
    "                    baths text, \n",
    "                    floors text,\n",
    "                    url text,\n",
    "                    created_at timestamp without time zone NOT NULL DEFAULT NOW(),\n",
    "                    updated_at timestamp without time zone DEFAULT NULL\n",
    "                )\n",
    "                WITH (\n",
    "                        OIDS = FALSE\n",
    "                        )\n",
    "                        TABLESPACE pg_default;\n",
    "                        ALTER TABLE {}\n",
    "                        OWNER to manfredi;\n",
    "                        CREATE INDEX {}_id ON {}(id, name, sqm, price);\n",
    "                \"\"\".format(table_name,)\n",
    "            )\n",
    "        except:\n",
    "            print(\"Something wrong happened\")\n",
    "        conn.commit()  # <--- makes sure the change is shown in the database\n",
    "        conn.close()\n",
    "        cur.close()\n",
    "\n",
    "        # we load into Postgres table created\n",
    "        tmp.to_sql(table_name, engine, if_exists='append', index=False,\n",
    "                   chunksize=1000, method='multi')\n",
    "        print('The table ' + str(table_name) + ' has been initialized with ' +\n",
    "              str(len(tmp))+' rows')\n",
    "\n",
    "    else:\n",
    "        print('The database is already initialized')\n"
   ]
  },
  {
   "cell_type": "code",
   "execution_count": null,
   "id": "worthy-cheat",
   "metadata": {},
   "outputs": [],
   "source": [
    "\n",
    "            \n",
    "initialize_db_extract_immobiliare(html_second_hand, \"immobiliare_sales_second_hand\")"
   ]
  },
  {
   "cell_type": "code",
   "execution_count": null,
   "id": "equal-burst",
   "metadata": {},
   "outputs": [],
   "source": [
    "insert_immobiliare(html_second_hand, \"immobiliare_sales_second_hand\")"
   ]
  },
  {
   "cell_type": "code",
   "execution_count": null,
   "id": "tested-anger",
   "metadata": {},
   "outputs": [],
   "source": [
    "        \n",
    "initialize_db_extract_immobiliare(html_new_dev, \"immobiliare_sales_new_development\")"
   ]
  },
  {
   "cell_type": "code",
   "execution_count": null,
   "id": "exciting-vacuum",
   "metadata": {},
   "outputs": [],
   "source": []
  }
 ],
 "metadata": {
  "kernelspec": {
   "display_name": "Python 3",
   "language": "python",
   "name": "python3"
  },
  "language_info": {
   "codemirror_mode": {
    "name": "ipython",
    "version": 3
   },
   "file_extension": ".py",
   "mimetype": "text/x-python",
   "name": "python",
   "nbconvert_exporter": "python",
   "pygments_lexer": "ipython3",
   "version": "3.6.9"
  }
 },
 "nbformat": 4,
 "nbformat_minor": 5
}
