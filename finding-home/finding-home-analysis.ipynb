{
 "cells": [
  {
   "cell_type": "code",
   "execution_count": 1,
   "id": "optional-halloween",
   "metadata": {},
   "outputs": [],
   "source": [
    "from isochrones import plot_isochrones\n",
    "from immobiliare import immobiliare_scraper, immobiliare_html_to_df, initialize_db_extract_immobiliare, insert_immobiliare\n"
   ]
  },
  {
   "cell_type": "markdown",
   "id": "dominant-screen",
   "metadata": {},
   "source": [
    "# Goal of this notebook: Identify potential candidates for opportunities to buy a house in Bologna\n",
    "\n",
    "Objectives: \n",
    "1. Track market, having in mind a 2-3 years horizon\n",
    "2. Evaluate the important features and what represents a \"good price\" for the type of house needed\n",
    "\n",
    "It is implied that the house needed could vary in the course of the time horizon. However, I'll start this analysis and the ETL having in mind some simple features to limit and narrow down the potential candidates.\n",
    "\n",
    "Starting point, is the identiication of the area where to scrape potential oppportunities. We focus on Immobiliare.it as this represent a good source of apartments and houses. We are conscious that we might lose private transactions and we might need to add this later on. \n",
    "\n",
    "<img src = \"search-area-sales.png\"></img>\n",
    "\n",
    "The area of search is wide but focused on the southern part of Bologna. \n"
   ]
  },
  {
   "cell_type": "markdown",
   "id": "african-socket",
   "metadata": {},
   "source": [
    "# 1. ETL and data extraction\n",
    "\n",
    "## 1.1 Extract data from HTML and copy raw data to Postgres\n",
    "\n",
    "We split between rent, new development site and second-hand properties. "
   ]
  },
  {
   "cell_type": "code",
   "execution_count": 2,
   "id": "scheduled-knife",
   "metadata": {},
   "outputs": [],
   "source": [
    "# get the page numbers from the bottom of the first page\n",
    "url_rent = 'https://www.immobiliare.it/ricerca.php?idCategoria=1&idContratto=2&idNazione=IT&criterio=rilevanza&ordine=desc&pag=1&vrt=44.489776,11.357544;44.494249,11.34675;44.495691,11.337407;44.493154,11.336368;44.491507,11.339624;44.486731,11.339628;44.490634,11.329837;44.494753,11.329349;44.498877,11.327549;44.501142,11.321222;44.501225,11.305553;44.49277,11.302361;44.484392,11.288604;44.474124,11.314179;44.474465,11.351611;44.479087,11.364605;44.489776,11.357544'\n",
    "url_new_dev = 'https://www.immobiliare.it/ricerca_nc.php?idCategoria=6&idContratto=&idTipologia[]=&idRegione=&idProvincia=&idComune=&prezzoMinimo=&prezzoMassimo=&superficieMinima=&superficieMassima=120&bagni=&criterio=rilevanza&ordine=desc&vrt=44.489776,11.357544;44.494249,11.34675;44.495691,11.337407;44.493154,11.336368;44.491507,11.339624;44.486731,11.339628;44.490634,11.329837;44.494753,11.329349;44.498877,11.327549;44.501142,11.321222;44.501225,11.305553;44.49277,11.302361;44.484392,11.288604;44.474124,11.314179;44.474465,11.351611;44.479087,11.364605;44.489776,11.357544'\n",
    "url_second_hand = 'https://www.immobiliare.it/ricerca.php?idCategoria=1&idContratto=1&idNazione=IT&criterio=rilevanza&ordine=desc&pag=1&vrt=44.489776,11.357544;44.494249,11.34675;44.495691,11.337407;44.493154,11.336368;44.491507,11.339624;44.486731,11.339628;44.490634,11.329837;44.494753,11.329349;44.498877,11.327549;44.501142,11.321222;44.501225,11.305553;44.49277,11.302361;44.484392,11.288604;44.474124,11.314179;44.474465,11.351611;44.479087,11.364605;44.489776,11.357544'\n",
    "\n",
    "\n",
    "html_rent = immobiliare_scraper(url_rent, 'rent')\n",
    "html_new_dev = immobiliare_scraper(url_new_dev, 'sales')\n",
    "html_second_hand = immobiliare_scraper(url_second_hand, 'sales')"
   ]
  },
  {
   "cell_type": "code",
   "execution_count": 3,
   "id": "vital-graduation",
   "metadata": {},
   "outputs": [],
   "source": [
    "# df_new_dev = immobiliare_html_to_df(html_new_dev)\n",
    "# df_second_hand = immobiliare_html_to_df(html_second_hand)\n"
   ]
  },
  {
   "cell_type": "code",
   "execution_count": 4,
   "id": "powerful-nickname",
   "metadata": {},
   "outputs": [
    {
     "name": "stdout",
     "output_type": "stream",
     "text": [
      "The database is already initialized\n",
      "The database is already initialized\n",
      "The database is already initialized\n"
     ]
    }
   ],
   "source": [
    "# we initialize the tables if they don't exists        \n",
    "initialize_db_extract_immobiliare(html_rent, \"immobiliare_rent\")   \n",
    "initialize_db_extract_immobiliare(html_new_dev, \"immobiliare_sales_new_development\")\n",
    "initialize_db_extract_immobiliare(html_second_hand, \"immobiliare_sales_second_hand\")"
   ]
  },
  {
   "cell_type": "code",
   "execution_count": 5,
   "id": "integrated-trinity",
   "metadata": {},
   "outputs": [
    {
     "name": "stdout",
     "output_type": "stream",
     "text": [
      "Inserted 0 rows\n",
      "Inserted 0 rows\n",
      "Inserted 0 rows\n"
     ]
    }
   ],
   "source": [
    "# we insert new rows checking what is already present\n",
    "insert_immobiliare(html_rent, \"immobiliare_rent\")\n",
    "insert_immobiliare(html_second_hand, \"immobiliare_sales_second_hand\")\n",
    "insert_immobiliare(html_new_dev, \"immobiliare_sales_new_development\")\n",
    "            \n"
   ]
  },
  {
   "cell_type": "markdown",
   "id": "adverse-headset",
   "metadata": {},
   "source": [
    "## 1.2 Clean the raw extracted data for further analysis"
   ]
  },
  {
   "cell_type": "code",
   "execution_count": null,
   "id": "forty-biology",
   "metadata": {},
   "outputs": [],
   "source": []
  }
 ],
 "metadata": {
  "kernelspec": {
   "display_name": "Python 3",
   "language": "python",
   "name": "python3"
  },
  "language_info": {
   "codemirror_mode": {
    "name": "ipython",
    "version": 3
   },
   "file_extension": ".py",
   "mimetype": "text/x-python",
   "name": "python",
   "nbconvert_exporter": "python",
   "pygments_lexer": "ipython3",
   "version": "3.6.9"
  }
 },
 "nbformat": 4,
 "nbformat_minor": 5
}
